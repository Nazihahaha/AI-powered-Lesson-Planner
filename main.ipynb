{
 "cells": [
  {
   "cell_type": "code",
   "execution_count": 1,
   "id": "50555430",
   "metadata": {},
   "outputs": [],
   "source": [
    "import os \n",
    "from dotenv import load_dotenv\n",
    "from langchain_groq import ChatGroq\n",
    "from langchain_core.output_parsers import StrOutputParser\n",
    "import streamlit as st"
   ]
  },
  {
   "cell_type": "code",
   "execution_count": 2,
   "id": "5cc5258d",
   "metadata": {},
   "outputs": [
    {
     "data": {
      "text/plain": [
       "True"
      ]
     },
     "execution_count": 2,
     "metadata": {},
     "output_type": "execute_result"
    }
   ],
   "source": [
    "load_dotenv()\n"
   ]
  },
  {
   "cell_type": "code",
   "execution_count": 3,
   "id": "56a950b6",
   "metadata": {},
   "outputs": [],
   "source": [
    "def LLM_Setup(prompt):\n",
    "    model = ChatGroq(\n",
    "        model = \"llama-3.3-70b-versatile\" ,\n",
    "        groq_api_key = os.getenv('key')\n",
    "    )\n",
    "\n",
    "    parser = StrOutputParser()\n",
    "    output = parser | model\n",
    "    output = output.invoke(prompt)\n",
    "    return output\n",
    "\n",
    "#llm_output = LLM_Setup('HELLO')\n",
    "#print(llm_output)"
   ]
  },
  {
   "cell_type": "code",
   "execution_count": 4,
   "id": "04cf947a",
   "metadata": {},
   "outputs": [],
   "source": [
    "subject = 'Science'\n",
    "\n",
    "topic = 'The Solar System'\n",
    "\n",
    "grade = 5\n",
    "\n",
    "duration = 'one hour'\n",
    "\n",
    "learning_objectives = 'student need to understand the solar system in a practical manner'\n",
    " \n",
    "customization = 'make this lesson fun and intereactive'\n",
    "\n",
    "\n",
    "# prompt = (\n",
    "#                 f\"Generate a detailed lesson plan for the subject of {subject} on the topic of {topic}. \"\n",
    "#                 f\"This lesson is intended for {grade} students and will last for {duration}. \"\n",
    "#                 f\"The following are the learning objectives: {learning_objectives}. Return the results as Markdown and don't return class size\"\n",
    "#                 f\"This is how the user wants the plan to be customized {customization}.\"\n",
    "#             )\n",
    "\n",
    "\n",
    "\n",
    "# llm_output = LLM_Setup(prompt)\n",
    "# print(llm_output)\n",
    "\n"
   ]
  },
  {
   "cell_type": "code",
   "execution_count": 5,
   "id": "87afc55c",
   "metadata": {},
   "outputs": [
    {
     "name": "stderr",
     "output_type": "stream",
     "text": [
      "2025-07-16 20:46:45.514 WARNING streamlit.runtime.scriptrunner_utils.script_run_context: Thread 'MainThread': missing ScriptRunContext! This warning can be ignored when running in bare mode.\n",
      "Error parsing config toml. This is most likely due to a syntax error in the config.toml file. Please fix it and try again.\n",
      "Traceback (most recent call last):\n",
      "  File \"c:\\Python\\Python311\\Lib\\site-packages\\streamlit\\config.py\", line 1487, in _update_config_with_toml\n",
      "    parsed_config_file = toml.loads(raw_toml)\n",
      "                         ^^^^^^^^^^^^^^^^^^^^\n",
      "  File \"c:\\Python\\Python311\\Lib\\site-packages\\toml\\decoder.py\", line 433, in loads\n",
      "    raise TomlDecodeError(\"Key group not on a line by itself.\",\n",
      "toml.decoder.TomlDecodeError: Key group not on a line by itself. (line 1 column 1 char 0)\n",
      "2025-07-16 20:46:46.014 \n",
      "  \u001b[33m\u001b[1mWarning:\u001b[0m to view this Streamlit app on a browser, run it with the following\n",
      "  command:\n",
      "\n",
      "    streamlit run c:\\Python\\Python311\\Lib\\site-packages\\ipykernel_launcher.py [ARGUMENTS]\n",
      "2025-07-16 20:46:46.016 Thread 'MainThread': missing ScriptRunContext! This warning can be ignored when running in bare mode.\n",
      "2025-07-16 20:46:46.017 Thread 'MainThread': missing ScriptRunContext! This warning can be ignored when running in bare mode.\n",
      "2025-07-16 20:46:46.017 Thread 'MainThread': missing ScriptRunContext! This warning can be ignored when running in bare mode.\n",
      "2025-07-16 20:46:46.018 Thread 'MainThread': missing ScriptRunContext! This warning can be ignored when running in bare mode.\n",
      "2025-07-16 20:46:46.020 Thread 'MainThread': missing ScriptRunContext! This warning can be ignored when running in bare mode.\n",
      "2025-07-16 20:46:46.021 Thread 'MainThread': missing ScriptRunContext! This warning can be ignored when running in bare mode.\n",
      "2025-07-16 20:46:46.023 Session state does not function when running a script without `streamlit run`\n",
      "2025-07-16 20:46:46.023 Thread 'MainThread': missing ScriptRunContext! This warning can be ignored when running in bare mode.\n",
      "2025-07-16 20:46:46.024 Thread 'MainThread': missing ScriptRunContext! This warning can be ignored when running in bare mode.\n",
      "2025-07-16 20:46:46.025 Thread 'MainThread': missing ScriptRunContext! This warning can be ignored when running in bare mode.\n",
      "2025-07-16 20:46:46.026 Thread 'MainThread': missing ScriptRunContext! This warning can be ignored when running in bare mode.\n",
      "2025-07-16 20:46:46.026 Thread 'MainThread': missing ScriptRunContext! This warning can be ignored when running in bare mode.\n",
      "2025-07-16 20:46:46.027 Thread 'MainThread': missing ScriptRunContext! This warning can be ignored when running in bare mode.\n",
      "2025-07-16 20:46:46.030 Thread 'MainThread': missing ScriptRunContext! This warning can be ignored when running in bare mode.\n",
      "2025-07-16 20:46:46.032 Thread 'MainThread': missing ScriptRunContext! This warning can be ignored when running in bare mode.\n",
      "2025-07-16 20:46:46.033 Thread 'MainThread': missing ScriptRunContext! This warning can be ignored when running in bare mode.\n",
      "2025-07-16 20:46:46.034 Thread 'MainThread': missing ScriptRunContext! This warning can be ignored when running in bare mode.\n",
      "2025-07-16 20:46:46.035 Thread 'MainThread': missing ScriptRunContext! This warning can be ignored when running in bare mode.\n",
      "2025-07-16 20:46:46.036 Thread 'MainThread': missing ScriptRunContext! This warning can be ignored when running in bare mode.\n",
      "2025-07-16 20:46:46.037 Thread 'MainThread': missing ScriptRunContext! This warning can be ignored when running in bare mode.\n",
      "2025-07-16 20:46:46.037 Thread 'MainThread': missing ScriptRunContext! This warning can be ignored when running in bare mode.\n",
      "2025-07-16 20:46:46.038 Thread 'MainThread': missing ScriptRunContext! This warning can be ignored when running in bare mode.\n",
      "2025-07-16 20:46:46.041 Thread 'MainThread': missing ScriptRunContext! This warning can be ignored when running in bare mode.\n",
      "2025-07-16 20:46:46.042 Thread 'MainThread': missing ScriptRunContext! This warning can be ignored when running in bare mode.\n",
      "2025-07-16 20:46:46.044 Thread 'MainThread': missing ScriptRunContext! This warning can be ignored when running in bare mode.\n",
      "2025-07-16 20:46:46.044 Thread 'MainThread': missing ScriptRunContext! This warning can be ignored when running in bare mode.\n",
      "2025-07-16 20:46:46.046 Thread 'MainThread': missing ScriptRunContext! This warning can be ignored when running in bare mode.\n",
      "2025-07-16 20:46:46.048 Thread 'MainThread': missing ScriptRunContext! This warning can be ignored when running in bare mode.\n",
      "2025-07-16 20:46:46.049 Thread 'MainThread': missing ScriptRunContext! This warning can be ignored when running in bare mode.\n",
      "2025-07-16 20:46:46.049 Thread 'MainThread': missing ScriptRunContext! This warning can be ignored when running in bare mode.\n",
      "2025-07-16 20:46:46.050 Thread 'MainThread': missing ScriptRunContext! This warning can be ignored when running in bare mode.\n",
      "2025-07-16 20:46:46.051 Thread 'MainThread': missing ScriptRunContext! This warning can be ignored when running in bare mode.\n",
      "2025-07-16 20:46:46.052 Thread 'MainThread': missing ScriptRunContext! This warning can be ignored when running in bare mode.\n",
      "2025-07-16 20:46:46.052 Thread 'MainThread': missing ScriptRunContext! This warning can be ignored when running in bare mode.\n",
      "2025-07-16 20:46:46.053 Thread 'MainThread': missing ScriptRunContext! This warning can be ignored when running in bare mode.\n",
      "2025-07-16 20:46:46.054 Thread 'MainThread': missing ScriptRunContext! This warning can be ignored when running in bare mode.\n",
      "2025-07-16 20:46:46.054 Thread 'MainThread': missing ScriptRunContext! This warning can be ignored when running in bare mode.\n",
      "2025-07-16 20:46:46.057 Thread 'MainThread': missing ScriptRunContext! This warning can be ignored when running in bare mode.\n",
      "2025-07-16 20:46:46.057 Thread 'MainThread': missing ScriptRunContext! This warning can be ignored when running in bare mode.\n",
      "2025-07-16 20:46:46.058 Thread 'MainThread': missing ScriptRunContext! This warning can be ignored when running in bare mode.\n",
      "2025-07-16 20:46:46.059 Thread 'MainThread': missing ScriptRunContext! This warning can be ignored when running in bare mode.\n",
      "2025-07-16 20:46:46.064 Thread 'MainThread': missing ScriptRunContext! This warning can be ignored when running in bare mode.\n",
      "2025-07-16 20:46:46.064 Thread 'MainThread': missing ScriptRunContext! This warning can be ignored when running in bare mode.\n",
      "2025-07-16 20:46:46.067 Thread 'MainThread': missing ScriptRunContext! This warning can be ignored when running in bare mode.\n",
      "2025-07-16 20:46:46.067 Thread 'MainThread': missing ScriptRunContext! This warning can be ignored when running in bare mode.\n",
      "2025-07-16 20:46:46.069 Thread 'MainThread': missing ScriptRunContext! This warning can be ignored when running in bare mode.\n",
      "2025-07-16 20:46:46.070 Thread 'MainThread': missing ScriptRunContext! This warning can be ignored when running in bare mode.\n",
      "2025-07-16 20:46:46.071 Thread 'MainThread': missing ScriptRunContext! This warning can be ignored when running in bare mode.\n",
      "2025-07-16 20:46:46.074 Thread 'MainThread': missing ScriptRunContext! This warning can be ignored when running in bare mode.\n",
      "2025-07-16 20:46:46.082 Thread 'MainThread': missing ScriptRunContext! This warning can be ignored when running in bare mode.\n",
      "2025-07-16 20:46:46.083 Thread 'MainThread': missing ScriptRunContext! This warning can be ignored when running in bare mode.\n"
     ]
    }
   ],
   "source": [
    "st.title('AI Lesson Planner')\n",
    "\n",
    "subject = st.text_input(label='Subject')\n",
    "topic = st.text_input(label='Topic')\n",
    "grade = st.text_input(label='Grade')\n",
    "duration = st.text_input(label='Duration')\n",
    "learning_objectives = st.text_area(label='Learning Objective')\n",
    "customization = st.text_area(label='Customization')\n",
    "\n",
    "if st.button('Generate Lesson Plan'):\n",
    "    if not subject or not topic or not grade or not duration or not learning_objectives:\n",
    "        st.warning('Please fill out all required fields before generating the lesson plan.')\n",
    "    else:\n",
    "        prompt = (\n",
    "            f\"Generate a detailed lesson plan for the subject of {subject} on the topic of {topic}. \"\n",
    "            f\"This lesson is intended for {grade} students and will last for {duration}. \"\n",
    "            f\"The following are the learning objectives: {learning_objectives}. \"\n",
    "            f\"Return the results as Markdown and don't return class size. \"\n",
    "            f\"This is how the user wants the plan to be customized: {customization}. return the result as Markdown\"\n",
    "        )\n",
    "        llm_output = LLM_Setup(prompt)\n",
    "        st.markdown(llm_output)"
   ]
  },
  {
   "cell_type": "code",
   "execution_count": null,
   "id": "0c087fa6",
   "metadata": {},
   "outputs": [],
   "source": []
  },
  {
   "cell_type": "code",
   "execution_count": null,
   "id": "05f13d2c",
   "metadata": {},
   "outputs": [],
   "source": []
  },
  {
   "cell_type": "code",
   "execution_count": null,
   "id": "3ce3aecf",
   "metadata": {},
   "outputs": [],
   "source": []
  },
  {
   "cell_type": "code",
   "execution_count": null,
   "id": "6462bcd1",
   "metadata": {},
   "outputs": [],
   "source": []
  },
  {
   "cell_type": "code",
   "execution_count": null,
   "id": "ee86fc2a",
   "metadata": {},
   "outputs": [],
   "source": []
  },
  {
   "cell_type": "code",
   "execution_count": null,
   "id": "11215ab7",
   "metadata": {},
   "outputs": [],
   "source": []
  },
  {
   "cell_type": "code",
   "execution_count": null,
   "id": "c4b53951",
   "metadata": {},
   "outputs": [],
   "source": []
  },
  {
   "cell_type": "code",
   "execution_count": null,
   "id": "02b25033",
   "metadata": {},
   "outputs": [],
   "source": []
  }
 ],
 "metadata": {
  "kernelspec": {
   "display_name": "Python 3",
   "language": "python",
   "name": "python3"
  },
  "language_info": {
   "codemirror_mode": {
    "name": "ipython",
    "version": 3
   },
   "file_extension": ".py",
   "mimetype": "text/x-python",
   "name": "python",
   "nbconvert_exporter": "python",
   "pygments_lexer": "ipython3",
   "version": "3.11.4"
  }
 },
 "nbformat": 4,
 "nbformat_minor": 5
}
