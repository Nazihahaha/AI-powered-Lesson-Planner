{
 "cells": [
  {
   "cell_type": "code",
   "execution_count": 2,
   "id": "50555430",
   "metadata": {},
   "outputs": [],
   "source": [
    "import os \n",
    "from dotenv import load_dotenv\n",
    "from langchain_groq import ChatGroq\n",
    "from langchain_core.output_parsers import StrOutputParser\n",
    "import streamlit as st"
   ]
  },
  {
   "cell_type": "code",
   "execution_count": 3,
   "id": "5cc5258d",
   "metadata": {},
   "outputs": [
    {
     "data": {
      "text/plain": [
       "True"
      ]
     },
     "execution_count": 3,
     "metadata": {},
     "output_type": "execute_result"
    }
   ],
   "source": [
    "load_dotenv()\n"
   ]
  },
  {
   "cell_type": "code",
   "execution_count": null,
   "id": "56a950b6",
   "metadata": {},
   "outputs": [
    {
     "name": "stdout",
     "output_type": "stream",
     "text": [
      "content=\"Hello! It's nice to meet you. Is there something I can help you with or would you like to chat?\" additional_kwargs={} response_metadata={'token_usage': {'completion_tokens': 25, 'prompt_tokens': 37, 'total_tokens': 62, 'completion_time': 0.052666279, 'prompt_time': 0.004938409, 'queue_time': 0.210862478, 'total_time': 0.057604688}, 'model_name': 'llama-3.3-70b-versatile', 'system_fingerprint': 'fp_6507bcfb6f', 'service_tier': 'on_demand', 'finish_reason': 'stop', 'logprobs': None} id='run--a4066309-ebcf-4c4b-a678-f45a457d4961-0' usage_metadata={'input_tokens': 37, 'output_tokens': 25, 'total_tokens': 62}\n"
     ]
    }
   ],
   "source": [
    "def LLM_Setup(prompt):\n",
    "    model = ChatGroq(\n",
    "        model = \"llama-3.3-70b-versatile\" ,\n",
    "        groq_api_key = os.getenv('key')\n",
    "    )\n",
    "\n",
    "    parser = StrOutputParser()\n",
    "    output = parser | model\n",
    "    output = output.invoke(prompt)\n",
    "    return output\n",
    "\n",
    "#llm_output = LLM_Setup('HELLO')\n",
    "#print(llm_output)"
   ]
  },
  {
   "cell_type": "code",
   "execution_count": null,
   "id": "04cf947a",
   "metadata": {},
   "outputs": [
    {
     "name": "stdout",
     "output_type": "stream",
     "text": [
      "content='### Lesson Plan: Exploring the Solar System\\n#### Duration: 1 hour\\n#### Topic: The Solar System\\n#### Learning Objectives:\\n- Students will be able to describe the Solar System in a practical manner.\\n- Students will understand the basic components of the Solar System.\\n\\n### Introduction (5 minutes)\\nTo make the lesson fun and interactive, we will start with a **Solar System Song** or a short, engaging video that introduces the planets and other components of the Solar System. This will capture the students\\' attention and provide a basic overview of what they will be learning.\\n\\n### Activity 1: Solar System Modeling (20 minutes)\\n- **Materials**: Different sized balls or spheres (for the Sun and planets), a large, open space (like a hallway or outside area), and a measuring tape.\\n- **Instructions**:\\n  1. Explain that we are going to create a scale model of the Solar System.\\n  2. Assign each student a planet (including the Sun) and give them the corresponding ball.\\n  3. Use the measuring tape to measure out the distance between each planet, using a scale where 1 meter equals about 1 million kilometers (a common scale for Solar System models).\\n  4. Have the students place their planets in the correct order and distance from the Sun.\\n  5. As they work, ask questions about their planet, such as \"What is unique about your planet?\" or \"How long does it take your planet to orbit the Sun?\"\\n- **Interactive Element**: The physical activity of placing the planets at the correct distances helps students visualize the vastness of the Solar System and understand the relative sizes and distances of the planets from the Sun.\\n\\n### Activity 2: Planet Presentations (20 minutes)\\n- **Instructions**:\\n  1. After setting up the model, have each student present interesting facts about their assigned planet.\\n  2. Encourage them to include unique features, such as rings, moons, or extreme temperatures.\\n  3. Allow time for questions and discussion after each presentation.\\n- **Interactive Element**: This activity promotes student engagement and learning through sharing and discussion. It allows students to learn about all the planets, not just their assigned one, in a peer-to-peer learning environment.\\n\\n### Conclusion (10 minutes)\\n- **Activity**: Have the students reflect on what they\\'ve learned by asking open-ended questions like \"What was the most surprising thing you learned about the Solar System?\" or \"Which planet would you most like to visit and why?\"\\n- **Interactive Element**: End the lesson with a **Solar System Quiz** or a quick game that reinforces the learning objectives. This could be a matching game where students match planets with their descriptions or a simple trivia quiz.\\n\\n### Assessment\\n- Observe student participation during the activities.\\n- Evaluate the understanding of the Solar System through the presentations and the final quiz or game.\\n- Collect any worksheets or drawings made during the lesson for further assessment.\\n\\n### Materials Needed\\n- Balls or spheres of different sizes\\n- Measuring tape\\n- Open space (hallway, outside area, etc.)\\n- Whiteboard and markers\\n- Printed or digital facts about the planets\\n- Quiz or game materials (optional)\\n\\nThis lesson plan is designed to be engaging, interactive, and practical, ensuring that students have a fun and memorable learning experience about the Solar System.' additional_kwargs={} response_metadata={'token_usage': {'completion_tokens': 682, 'prompt_tokens': 118, 'total_tokens': 800, 'completion_time': 2.000890062, 'prompt_time': 0.005882192, 'queue_time': 0.20250296399999998, 'total_time': 2.006772254}, 'model_name': 'llama-3.3-70b-versatile', 'system_fingerprint': 'fp_3f3b593e33', 'service_tier': 'on_demand', 'finish_reason': 'stop', 'logprobs': None} id='run--e0127602-9ca3-41d7-b6bc-02aa3a40b4d9-0' usage_metadata={'input_tokens': 118, 'output_tokens': 682, 'total_tokens': 800}\n"
     ]
    }
   ],
   "source": [
    "subject = 'Science'\n",
    "\n",
    "topic = 'The Solar System'\n",
    "\n",
    "grade = 5\n",
    "\n",
    "duration = 'one hour'\n",
    "\n",
    "learning_objectives = 'student need to understand the solar system in a practical manner'\n",
    " \n",
    "customization = 'make this lesson fun and intereactive'\n",
    "\n",
    "\n",
    "# prompt = (\n",
    "#                 f\"Generate a detailed lesson plan for the subject of {subject} on the topic of {topic}. \"\n",
    "#                 f\"This lesson is intended for {grade} students and will last for {duration}. \"\n",
    "#                 f\"The following are the learning objectives: {learning_objectives}. Return the results as Markdown and don't return class size\"\n",
    "#                 f\"This is how the user wants the plan to be customized {customization}.\"\n",
    "#             )\n",
    "\n",
    "\n",
    "\n",
    "# llm_output = LLM_Setup(prompt)\n",
    "# print(llm_output)\n",
    "\n"
   ]
  },
  {
   "cell_type": "code",
   "execution_count": null,
   "id": "87afc55c",
   "metadata": {},
   "outputs": [],
   "source": [
    "st.title('AI Lesson Planner')\n",
    "\n",
    "subject = st.text_input(label='Subject')\n",
    "topic = st.text_input(label='Topic')\n",
    "grade = st.text_input(label='Grade')\n",
    "duration = st.text_input(label='Duration')\n",
    "learning_objectives = st.text_area(label='Learning Objective')\n",
    "customization = st.text_area(label='Customization')\n",
    "\n",
    "if st.button('Generate Lesson Plan'):\n",
    "    if not subject or not topic or not grade or not duration or not learning_objectives:\n",
    "        st.warning('Please fill out all required fields before generating the lesson plan.')\n",
    "    else:\n",
    "        prompt = (\n",
    "            f\"Generate a detailed lesson plan for the subject of {subject} on the topic of {topic}. \"\n",
    "            f\"This lesson is intended for {grade} students and will last for {duration}. \"\n",
    "            f\"The following are the learning objectives: {learning_objectives}. \"\n",
    "            f\"Return the results as Markdown and don't return class size. \"\n",
    "            f\"This is how the user wants the plan to be customized: {customization}. return the result as Markdown\"\n",
    "        )\n",
    "        llm_output = LLM_Setup(prompt)\n",
    "        st.markdown(llm_output)"
   ]
  },
  {
   "cell_type": "code",
   "execution_count": null,
   "id": "0c087fa6",
   "metadata": {},
   "outputs": [],
   "source": []
  },
  {
   "cell_type": "code",
   "execution_count": null,
   "id": "05f13d2c",
   "metadata": {},
   "outputs": [],
   "source": []
  },
  {
   "cell_type": "code",
   "execution_count": null,
   "id": "3ce3aecf",
   "metadata": {},
   "outputs": [],
   "source": []
  },
  {
   "cell_type": "code",
   "execution_count": null,
   "id": "6462bcd1",
   "metadata": {},
   "outputs": [],
   "source": []
  },
  {
   "cell_type": "code",
   "execution_count": null,
   "id": "ee86fc2a",
   "metadata": {},
   "outputs": [],
   "source": []
  },
  {
   "cell_type": "code",
   "execution_count": null,
   "id": "11215ab7",
   "metadata": {},
   "outputs": [],
   "source": []
  },
  {
   "cell_type": "code",
   "execution_count": null,
   "id": "c4b53951",
   "metadata": {},
   "outputs": [],
   "source": []
  },
  {
   "cell_type": "code",
   "execution_count": null,
   "id": "02b25033",
   "metadata": {},
   "outputs": [],
   "source": []
  }
 ],
 "metadata": {
  "kernelspec": {
   "display_name": "Python 3",
   "language": "python",
   "name": "python3"
  },
  "language_info": {
   "codemirror_mode": {
    "name": "ipython",
    "version": 3
   },
   "file_extension": ".py",
   "mimetype": "text/x-python",
   "name": "python",
   "nbconvert_exporter": "python",
   "pygments_lexer": "ipython3",
   "version": "3.11.4"
  }
 },
 "nbformat": 4,
 "nbformat_minor": 5
}
